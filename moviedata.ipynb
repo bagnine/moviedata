{
 "metadata": {
  "language_info": {
   "codemirror_mode": {
    "name": "ipython",
    "version": 3
   },
   "file_extension": ".py",
   "mimetype": "text/x-python",
   "name": "python",
   "nbconvert_exporter": "python",
   "pygments_lexer": "ipython3",
   "version": "3.6.9-final"
  },
  "orig_nbformat": 2,
  "kernelspec": {
   "name": "python_defaultSpec_1601051234898",
   "display_name": "Python 3.6.9 64-bit ('learn-env': conda)"
  }
 },
 "nbformat": 4,
 "nbformat_minor": 2,
 "cells": [
  {
   "cell_type": "code",
   "execution_count": 1,
   "metadata": {},
   "outputs": [],
   "source": [
    "import pandas as pd\n",
    "import numpy as np\n",
    "import matplotlib.pyplot as plt "
   ]
  },
  {
   "cell_type": "code",
   "execution_count": 14,
   "metadata": {},
   "outputs": [],
   "source": [
    "movie_gross = pd.read_csv('./zippedData/bom.movie_gross.csv.gz')\n",
    "name_basics = pd.read_csv('./zippedData/imdb.name.basics.csv.gz')\n",
    "title_akas = pd.read_csv('./zippedData/imdb.title.akas.csv.gz')\n",
    "title_basics = pd.read_csv('./zippedData/imdb.title.basics.csv.gz')\n",
    "title_crew = pd.read_csv('./zippedData/imdb.title.crew.csv.gz')\n",
    "title_principals = pd.read_csv('./zippedData/imdb.title.principals.csv.gz')\n",
    "title_ratings = pd.read_csv('./zippedData/imdb.title.ratings.csv.gz')\n",
    "movie_info= pd.read_csv('./zippedData/rt.movie_info.tsv.gz', sep='\\t')\n",
    "# rt_reviews= pd.read_csv('./zippedData/rt.reviews.tsv.gz', sep='\\t')\n",
    "#this one is throwing errors for some reason, will return and do a more thorough check\n",
    "budgets = pd.read_csv('./zippedData/tn.movie_budgets.csv.gz')"
   ]
  },
  {
   "cell_type": "code",
   "execution_count": 17,
   "metadata": {
    "tags": []
   },
   "outputs": [
    {
     "output_type": "stream",
     "name": "stdout",
     "text": "Index(['title', 'studio', 'domestic_gross', 'foreign_gross', 'year'], dtype='object')\nIndex(['nconst', 'primary_name', 'birth_year', 'death_year',\n       'primary_profession', 'known_for_titles'],\n      dtype='object')\nIndex(['tconst', 'primary_title', 'original_title', 'start_year',\n       'runtime_minutes', 'genres'],\n      dtype='object')\nIndex(['title_id', 'ordering', 'title', 'region', 'language', 'types',\n       'attributes', 'is_original_title'],\n      dtype='object')\nIndex(['tconst', 'directors', 'writers'], dtype='object')\nIndex(['tconst', 'ordering', 'nconst', 'category', 'job', 'characters'], dtype='object')\nIndex(['tconst', 'averagerating', 'numvotes'], dtype='object')\nIndex(['id', 'synopsis', 'rating', 'genre', 'director', 'writer',\n       'theater_date', 'dvd_date', 'currency', 'box_office', 'runtime',\n       'studio'],\n      dtype='object')\nIndex(['id', 'release_date', 'movie', 'production_budget', 'domestic_gross',\n       'worldwide_gross'],\n      dtype='object')\n"
    }
   ],
   "source": [
    "print(movie_gross.keys())\n",
    "print(name_basics.keys())\n",
    "print(title_basics.keys())\n",
    "print(title_akas.keys())\n",
    "print(title_crew.keys())\n",
    "print(title_principals.keys())\n",
    "print(title_ratings.keys())\n",
    "print(movie_info.keys())\n",
    "print(budgets.keys())\n"
   ]
  },
  {
   "cell_type": "code",
   "execution_count": 18,
   "metadata": {
    "tags": []
   },
   "outputs": [
    {
     "output_type": "stream",
     "name": "stdout",
     "text": "title                0\nstudio               5\ndomestic_gross      28\nforeign_gross     1350\nyear                 0\ndtype: int64\nnconst                     0\nprimary_name               0\nbirth_year            523912\ndeath_year            599865\nprimary_profession     51340\nknown_for_titles       30204\ndtype: int64\ntconst                 0\nprimary_title          0\noriginal_title        21\nstart_year             0\nruntime_minutes    31739\ngenres              5408\ndtype: int64\ntitle_id                  0\nordering                  0\ntitle                     0\nregion                53293\nlanguage             289988\ntypes                163256\nattributes           316778\nis_original_title        25\ndtype: int64\ntconst           0\ndirectors     5727\nwriters      35883\ndtype: int64\ntconst             0\nordering           0\nnconst             0\ncategory           0\njob           850502\ncharacters    634826\ndtype: int64\ntconst           0\naveragerating    0\nnumvotes         0\ndtype: int64\nid                 0\nsynopsis          62\nrating             3\ngenre              8\ndirector         199\nwriter           449\ntheater_date     359\ndvd_date         359\ncurrency        1220\nbox_office      1220\nruntime           30\nstudio          1066\ndtype: int64\nid                   0\nrelease_date         0\nmovie                0\nproduction_budget    0\ndomestic_gross       0\nworldwide_gross      0\ndtype: int64\n"
    }
   ],
   "source": [
    "print(movie_gross.isna().sum())\n",
    "print(name_basics.isna().sum())\n",
    "print(title_basics.isna().sum())\n",
    "print(title_akas.isna().sum())\n",
    "print(title_crew.isna().sum())\n",
    "print(title_principals.isna().sum())\n",
    "print(title_ratings.isna().sum())\n",
    "print(movie_info.isna().sum())\n",
    "print(budgets.isna().sum())"
   ]
  },
  {
   "cell_type": "code",
   "execution_count": null,
   "metadata": {},
   "outputs": [],
   "source": [
    "()"
   ]
  }
 ]
}