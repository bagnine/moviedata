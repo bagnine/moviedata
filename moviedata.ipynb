{
 "metadata": {
  "language_info": {
   "codemirror_mode": {
    "name": "ipython",
    "version": 3
   },
   "file_extension": ".py",
   "mimetype": "text/x-python",
   "name": "python",
   "nbconvert_exporter": "python",
   "pygments_lexer": "ipython3",
   "version": "3.6.9-final"
  },
  "orig_nbformat": 2,
  "kernelspec": {
   "name": "python_defaultSpec_1601051234898",
   "display_name": "Python 3.6.9 64-bit ('learn-env': conda)"
  }
 },
 "nbformat": 4,
 "nbformat_minor": 2,
 "cells": [
  {
   "cell_type": "code",
   "execution_count": 1,
   "metadata": {},
   "outputs": [],
   "source": [
    "import pandas as pd\n",
    "import numpy as np\n",
    "import matplotlib.pyplot as plt "
   ]
  },
  {
   "cell_type": "code",
   "execution_count": 2,
   "metadata": {},
   "outputs": [],
   "source": [
    "movie_gross = pd.read_csv('./zippedData/bom.movie_gross.csv.gz')\n",
    "name_basics = pd.read_csv('./zippedData/imdb.name.basics.csv.gz')\n",
    "title_akas = pd.read_csv('./zippedData/imdb.title.akas.csv.gz')\n",
    "title_basics = pd.read_csv('./zippedData/imdb.title.basics.csv.gz')\n",
    "title_crew = pd.read_csv('./zippedData/imdb.title.crew.csv.gz')\n",
    "title_principals = pd.read_csv('./zippedData/imdb.title.principals.csv.gz')\n",
    "title_ratings = pd.read_csv('./zippedData/imdb.title.ratings.csv.gz')\n",
    "movie_info= pd.read_csv('./zippedData/rt.movie_info.tsv.gz', sep='\\t')\n",
    "rt_reviews= pd.read_csv('./zippedData/rt.reviews.tsv.gz', sep='\\t', encoding='windows-1254')\n",
    "budgets = pd.read_csv('./zippedData/tn.movie_budgets.csv.gz')"
   ]
  },
  {
   "cell_type": "code",
   "execution_count": 3,
   "metadata": {
    "tags": []
   },
   "outputs": [
    {
     "output_type": "stream",
     "name": "stdout",
     "text": "Index(['title', 'studio', 'domestic_gross', 'foreign_gross', 'year'], dtype='object')\nIndex(['nconst', 'primary_name', 'birth_year', 'death_year',\n       'primary_profession', 'known_for_titles'],\n      dtype='object')\nIndex(['tconst', 'primary_title', 'original_title', 'start_year',\n       'runtime_minutes', 'genres'],\n      dtype='object')\nIndex(['title_id', 'ordering', 'title', 'region', 'language', 'types',\n       'attributes', 'is_original_title'],\n      dtype='object')\nIndex(['tconst', 'directors', 'writers'], dtype='object')\nIndex(['tconst', 'ordering', 'nconst', 'category', 'job', 'characters'], dtype='object')\nIndex(['tconst', 'averagerating', 'numvotes'], dtype='object')\nIndex(['id', 'synopsis', 'rating', 'genre', 'director', 'writer',\n       'theater_date', 'dvd_date', 'currency', 'box_office', 'runtime',\n       'studio'],\n      dtype='object')\nIndex(['id', 'release_date', 'movie', 'production_budget', 'domestic_gross',\n       'worldwide_gross'],\n      dtype='object')\n"
    }
   ],
   "source": [
    "print(movie_gross.keys())\n",
    "print(name_basics.keys())\n",
    "print(title_basics.keys())\n",
    "print(title_akas.keys())\n",
    "print(title_crew.keys())\n",
    "print(title_principals.keys())\n",
    "print(title_ratings.keys())\n",
    "print(movie_info.keys())\n",
    "print(budgets.keys())\n"
   ]
  },
  {
   "cell_type": "code",
   "execution_count": 8,
   "metadata": {
    "tags": []
   },
   "outputs": [],
   "source": [
    "# print(movie_gross.isna().sum())\n",
    "# print(name_basics.isna().sum())\n",
    "# print(title_basics.isna().sum())\n",
    "# print(title_akas.isna().sum())\n",
    "# print(title_crew.isna().sum())\n",
    "# print(title_principals.isna().sum())\n",
    "# print(title_ratings.isna().sum())\n",
    "# print(movie_info.isna().sum())\n",
    "# print(budgets.isna().sum())"
   ]
  },
  {
   "cell_type": "code",
   "execution_count": 3,
   "metadata": {
    "tags": []
   },
   "outputs": [],
   "source": [
    "#converting all values in budgets sheets to ints by removing commas and $\n",
    "budgets['domestic_gross'] = budgets['domestic_gross'].str.replace('$' , '')\n",
    "budgets['domestic_gross'] = budgets['domestic_gross'].str.replace(',', '')\n",
    "budgets['domestic_gross'] = budgets['domestic_gross'].astype(int)\n",
    "\n",
    "budgets['production_budget'] = budgets['production_budget'].str.replace('$' , '')\n",
    "budgets['production_budget'] = budgets['production_budget'].str.replace(',', '')\n",
    "budgets['production_budget'] = budgets['production_budget'].astype(int)\n",
    "\n",
    "budgets['worldwide_gross'] = budgets['worldwide_gross'].str.replace('$' , '')\n",
    "budgets['worldwide_gross'] = budgets['worldwide_gross'].str.replace(',', '')\n",
    "budgets['worldwide_gross'] = budgets['worldwide_gross'].astype(int)\n"
   ]
  },
  {
   "cell_type": "code",
   "execution_count": 6,
   "metadata": {},
   "outputs": [],
   "source": [
    "#creating new lines showing the difference between gross and cost, aka net, as well as a profit percentage calculation showing net over budget\n",
    "budgets['domestic_net']= budgets['domestic_gross']- budgets['production_budget']\n",
    "budgets['worldwide_net']= budgets['worldwide_gross']- budgets['production_budget']\n",
    "budgets['profit_percentage'] = (budgets['worldwide_net']/budgets['production_budget'])*100"
   ]
  },
  {
   "cell_type": "code",
   "execution_count": 33,
   "metadata": {},
   "outputs": [],
   "source": [
    "#combining ratings and basics to produce a dataframe that matches titles to ratings\n",
    "titlerate = title_ratings.merge(title_basics, on= 'tconst', how= 'outer')"
   ]
  },
  {
   "cell_type": "code",
   "execution_count": 41,
   "metadata": {},
   "outputs": [],
   "source": [
    "#dropping null values from the combined table\n",
    "titlerate.dropna(subset= ['averagerating'], inplace = True)"
   ]
  },
  {
   "cell_type": "code",
   "execution_count": 42,
   "metadata": {
    "tags": []
   },
   "outputs": [
    {
     "output_type": "execute_result",
     "data": {
      "text/plain": "tconst                0\naveragerating         0\nnumvotes              0\nprimary_title         0\noriginal_title        0\nstart_year            0\nruntime_minutes    7620\ngenres              804\ndtype: int64"
     },
     "metadata": {},
     "execution_count": 42
    }
   ],
   "source": [
    "titlerate.isna().sum()"
   ]
  },
  {
   "cell_type": "code",
   "execution_count": 44,
   "metadata": {},
   "outputs": [
    {
     "output_type": "execute_result",
     "data": {
      "text/plain": "(73856, 8)"
     },
     "metadata": {},
     "execution_count": 44
    }
   ],
   "source": [
    "titlerate.shape"
   ]
  },
  {
   "cell_type": "code",
   "execution_count": 79,
   "metadata": {
    "tags": []
   },
   "outputs": [
    {
     "output_type": "execute_result",
     "data": {
      "text/plain": "0      1971-10-09\n1      2012-08-17\n2      1996-09-13\n3      1994-12-09\n4             NaT\n          ...    \n1555   2006-08-18\n1556   1993-07-23\n1557   1962-01-01\n1558   1993-04-01\n1559   2001-09-27\nName: theater_date, Length: 1560, dtype: datetime64[ns]"
     },
     "metadata": {},
     "execution_count": 79
    }
   ],
   "source": [
    "#need to get this to work inplace instead of returning a series\n",
    "movie_info['theater_date'].astype('datetime64')"
   ]
  },
  {
   "cell_type": "code",
   "execution_count": 77,
   "metadata": {
    "tags": []
   },
   "outputs": [
    {
     "output_type": "stream",
     "name": "stdout",
     "text": "<class 'pandas.core.frame.DataFrame'>\nRangeIndex: 1560 entries, 0 to 1559\nData columns (total 12 columns):\nid              1560 non-null int64\nsynopsis        1498 non-null object\nrating          1557 non-null object\ngenre           1552 non-null object\ndirector        1361 non-null object\nwriter          1111 non-null object\ntheater_date    1201 non-null object\ndvd_date        1201 non-null object\ncurrency        340 non-null object\nbox_office      340 non-null object\nruntime         1530 non-null object\nstudio          494 non-null object\ndtypes: int64(1), object(11)\nmemory usage: 146.4+ KB\n"
    }
   ],
   "source": [
    "movie_info.info()"
   ]
  },
  {
   "cell_type": "code",
   "execution_count": null,
   "metadata": {},
   "outputs": [],
   "source": []
  }
 ]
}