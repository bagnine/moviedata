{
 "metadata": {
  "language_info": {
   "codemirror_mode": {
    "name": "ipython",
    "version": 3
   },
   "file_extension": ".py",
   "mimetype": "text/x-python",
   "name": "python",
   "nbconvert_exporter": "python",
   "pygments_lexer": "ipython3",
   "version": "3.6.9-final"
  },
  "orig_nbformat": 2,
  "kernelspec": {
   "name": "python_defaultSpec_1601051234898",
   "display_name": "Python 3.6.9 64-bit ('learn-env': conda)"
  }
 },
 "nbformat": 4,
 "nbformat_minor": 2,
 "cells": [
  {
   "cell_type": "code",
   "execution_count": 1,
   "metadata": {},
   "outputs": [],
   "source": [
    "import pandas as pd\n",
    "import numpy as np\n",
    "import matplotlib.pyplot as plt "
   ]
  },
  {
   "cell_type": "code",
   "execution_count": 111,
   "metadata": {},
   "outputs": [],
   "source": [
    "movie_gross = pd.read_csv('./zippedData/bom.movie_gross.csv.gz')\n",
    "name_basics = pd.read_csv('./zippedData/imdb.name.basics.csv.gz')\n",
    "title_akas = pd.read_csv('./zippedData/imdb.title.akas.csv.gz')\n",
    "title_basics = pd.read_csv('./zippedData/imdb.title.basics.csv.gz')\n",
    "title_crew = pd.read_csv('./zippedData/imdb.title.crew.csv.gz')\n",
    "title_principals = pd.read_csv('./zippedData/imdb.title.principals.csv.gz')\n",
    "title_ratings = pd.read_csv('./zippedData/imdb.title.ratings.csv.gz')\n",
    "movie_info= pd.read_csv('./zippedData/rt.movie_info.tsv.gz', sep='\\t')\n",
    "rt_reviews= pd.read_csv('./zippedData/rt.reviews.tsv.gz', sep='\\t', encoding='windows-1254')\n",
    "budgets = pd.read_csv('./zippedData/tn.movie_budgets.csv.gz')"
   ]
  },
  {
   "cell_type": "code",
   "execution_count": 112,
   "metadata": {
    "tags": []
   },
   "outputs": [],
   "source": [
    "# print(movie_gross.keys())\n",
    "# print(name_basics.keys())\n",
    "# print(title_basics.keys())\n",
    "# print(title_akas.keys())\n",
    "# print(title_crew.keys())\n",
    "# print(title_principals.keys())\n",
    "# print(title_ratings.keys())\n",
    "# print(movie_info.keys())\n",
    "# print(budgets.keys())\n"
   ]
  },
  {
   "cell_type": "code",
   "execution_count": 8,
   "metadata": {
    "tags": []
   },
   "outputs": [],
   "source": [
    "# print(movie_gross.isna().sum())\n",
    "# print(name_basics.isna().sum())\n",
    "# print(title_basics.isna().sum())\n",
    "# print(title_akas.isna().sum())\n",
    "# print(title_crew.isna().sum())\n",
    "# print(title_principals.isna().sum())\n",
    "# print(title_ratings.isna().sum())\n",
    "# print(movie_info.isna().sum())\n",
    "# print(budgets.isna().sum())"
   ]
  },
  {
   "cell_type": "code",
   "execution_count": 113,
   "metadata": {
    "tags": []
   },
   "outputs": [],
   "source": [
    "#converting all values in budgets sheets to ints by removing commas and $\n",
    "budgets['domestic_gross'] = budgets['domestic_gross'].str.replace('$' , '')\n",
    "budgets['domestic_gross'] = budgets['domestic_gross'].str.replace(',', '')\n",
    "budgets['domestic_gross'] = budgets['domestic_gross'].astype(int)\n",
    "\n",
    "budgets['production_budget'] = budgets['production_budget'].str.replace('$' , '')\n",
    "budgets['production_budget'] = budgets['production_budget'].str.replace(',', '')\n",
    "budgets['production_budget'] = budgets['production_budget'].astype(int)\n",
    "\n",
    "budgets['worldwide_gross'] = budgets['worldwide_gross'].str.replace('$' , '')\n",
    "budgets['worldwide_gross'] = budgets['worldwide_gross'].str.replace(',', '')\n",
    "budgets['worldwide_gross'] = budgets['worldwide_gross'].astype(int)\n"
   ]
  },
  {
   "cell_type": "code",
   "execution_count": 114,
   "metadata": {},
   "outputs": [],
   "source": [
    "#creating new lines showing the difference between gross and cost, aka net, as well as a profit percentage calculation showing net over budget\n",
    "budgets['domestic_net']= budgets['domestic_gross']- budgets['production_budget']\n",
    "budgets['worldwide_net']= budgets['worldwide_gross']- budgets['production_budget']\n",
    "budgets['profit_percentage'] = (budgets['worldwide_net']/budgets['production_budget'])*100"
   ]
  },
  {
   "cell_type": "code",
   "execution_count": 115,
   "metadata": {},
   "outputs": [],
   "source": [
    "#combining ratings and basics to produce a dataframe that matches titles to ratings\n",
    "titlerate = title_ratings.merge(title_basics, on= 'tconst', how= 'outer')"
   ]
  },
  {
   "cell_type": "code",
   "execution_count": 116,
   "metadata": {},
   "outputs": [],
   "source": [
    "#dropping null values from the combined table\n",
    "titlerate.dropna(subset= ['averagerating'], inplace = True)"
   ]
  },
  {
   "cell_type": "code",
   "execution_count": 117,
   "metadata": {
    "tags": []
   },
   "outputs": [
    {
     "output_type": "execute_result",
     "data": {
      "text/plain": "tconst                0\naveragerating         0\nnumvotes              0\nprimary_title         0\noriginal_title        0\nstart_year            0\nruntime_minutes    7620\ngenres              804\ndtype: int64"
     },
     "metadata": {},
     "execution_count": 117
    }
   ],
   "source": [
    "titlerate.isna().sum()"
   ]
  },
  {
   "cell_type": "code",
   "execution_count": 118,
   "metadata": {},
   "outputs": [
    {
     "output_type": "execute_result",
     "data": {
      "text/plain": "(73856, 8)"
     },
     "metadata": {},
     "execution_count": 118
    }
   ],
   "source": [
    "titlerate.shape"
   ]
  },
  {
   "cell_type": "code",
   "execution_count": 119,
   "metadata": {},
   "outputs": [],
   "source": [
    "#merging the two rotten tomatoes dataframes\n",
    "tomatoes = rt_reviews.merge(movie_info, on='id', how='outer')"
   ]
  },
  {
   "cell_type": "code",
   "execution_count": 120,
   "metadata": {
    "tags": []
   },
   "outputs": [
    {
     "output_type": "stream",
     "name": "stdout",
     "text": "<class 'pandas.core.frame.DataFrame'>\nInt64Index: 54857 entries, 0 to 54856\nData columns (total 19 columns):\nid              54857 non-null int64\nreview          48869 non-null object\nrating_x        40915 non-null object\nfresh           54432 non-null object\ncritic          51710 non-null object\ntop_critic      54432 non-null float64\npublisher       54123 non-null object\ndate            54432 non-null object\nsynopsis        54680 non-null object\nrating_y        54769 non-null object\ngenre           54764 non-null object\ndirector        49339 non-null object\nwriter          45426 non-null object\ntheater_date    53411 non-null object\ndvd_date        53411 non-null object\ncurrency        33351 non-null object\nbox_office      33351 non-null object\nruntime         54001 non-null object\nstudio          40204 non-null object\ndtypes: float64(1), int64(1), object(17)\nmemory usage: 8.4+ MB\n"
    }
   ],
   "source": [
    "tomatoes.info()"
   ]
  },
  {
   "cell_type": "code",
   "execution_count": 121,
   "metadata": {},
   "outputs": [],
   "source": [
    "#changing the theater dates to datetime format so we can measure revenue against release date\n",
    "tomatoes['theater_date'] = pd.to_datetime(tomatoes['theater_date'])\n"
   ]
  },
  {
   "cell_type": "code",
   "execution_count": 103,
   "metadata": {
    "tags": []
   },
   "outputs": [
    {
     "output_type": "execute_result",
     "data": {
      "text/plain": "   id                                             review rating_x   fresh  \\\n0   3  A distinctly gallows take on contemporary fina...      3/5   fresh   \n1   3  It's an allegory in search of a meaning that n...      NaN  rotten   \n2   3  ... life lived in a bubble in financial dealin...      NaN   fresh   \n3   3  Continuing along a line introduced in last yea...      NaN   fresh   \n4   3             ... a perverse twist on neorealism...       NaN   fresh   \n\n           critic  top_critic         publisher  \\\n0      PJ Nabarro         0.0   Patrick Nabarro   \n1  Annalee Newitz         0.0           io9.com   \n2    Sean Axmaker         0.0  Stream on Demand   \n3   Daniel Kasman         0.0              MUBI   \n4             NaN         0.0      Cinema Scope   \n\n                                            synopsis rating_y  \\\n0  New York City, not-too-distant-future: Eric Pa...        R   \n1  New York City, not-too-distant-future: Eric Pa...        R   \n2  New York City, not-too-distant-future: Eric Pa...        R   \n3  New York City, not-too-distant-future: Eric Pa...        R   \n4  New York City, not-too-distant-future: Eric Pa...        R   \n\n                               genre          director  \\\n0  Drama|Science Fiction and Fantasy  David Cronenberg   \n1  Drama|Science Fiction and Fantasy  David Cronenberg   \n2  Drama|Science Fiction and Fantasy  David Cronenberg   \n3  Drama|Science Fiction and Fantasy  David Cronenberg   \n4  Drama|Science Fiction and Fantasy  David Cronenberg   \n\n                         writer theater_date     dvd_date currency box_office  \\\n0  David Cronenberg|Don DeLillo   2012-08-17  Jan 1, 2013        $    600,000   \n1  David Cronenberg|Don DeLillo   2012-08-17  Jan 1, 2013        $    600,000   \n2  David Cronenberg|Don DeLillo   2012-08-17  Jan 1, 2013        $    600,000   \n3  David Cronenberg|Don DeLillo   2012-08-17  Jan 1, 2013        $    600,000   \n4  David Cronenberg|Don DeLillo   2012-08-17  Jan 1, 2013        $    600,000   \n\n       runtime             studio  \n0  108 minutes  Entertainment One  \n1  108 minutes  Entertainment One  \n2  108 minutes  Entertainment One  \n3  108 minutes  Entertainment One  \n4  108 minutes  Entertainment One  ",
      "text/html": "<div>\n<style scoped>\n    .dataframe tbody tr th:only-of-type {\n        vertical-align: middle;\n    }\n\n    .dataframe tbody tr th {\n        vertical-align: top;\n    }\n\n    .dataframe thead th {\n        text-align: right;\n    }\n</style>\n<table border=\"1\" class=\"dataframe\">\n  <thead>\n    <tr style=\"text-align: right;\">\n      <th></th>\n      <th>id</th>\n      <th>review</th>\n      <th>rating_x</th>\n      <th>fresh</th>\n      <th>critic</th>\n      <th>top_critic</th>\n      <th>publisher</th>\n      <th>synopsis</th>\n      <th>rating_y</th>\n      <th>genre</th>\n      <th>director</th>\n      <th>writer</th>\n      <th>theater_date</th>\n      <th>dvd_date</th>\n      <th>currency</th>\n      <th>box_office</th>\n      <th>runtime</th>\n      <th>studio</th>\n    </tr>\n  </thead>\n  <tbody>\n    <tr>\n      <th>0</th>\n      <td>3</td>\n      <td>A distinctly gallows take on contemporary fina...</td>\n      <td>3/5</td>\n      <td>fresh</td>\n      <td>PJ Nabarro</td>\n      <td>0.0</td>\n      <td>Patrick Nabarro</td>\n      <td>New York City, not-too-distant-future: Eric Pa...</td>\n      <td>R</td>\n      <td>Drama|Science Fiction and Fantasy</td>\n      <td>David Cronenberg</td>\n      <td>David Cronenberg|Don DeLillo</td>\n      <td>2012-08-17</td>\n      <td>Jan 1, 2013</td>\n      <td>$</td>\n      <td>600,000</td>\n      <td>108 minutes</td>\n      <td>Entertainment One</td>\n    </tr>\n    <tr>\n      <th>1</th>\n      <td>3</td>\n      <td>It's an allegory in search of a meaning that n...</td>\n      <td>NaN</td>\n      <td>rotten</td>\n      <td>Annalee Newitz</td>\n      <td>0.0</td>\n      <td>io9.com</td>\n      <td>New York City, not-too-distant-future: Eric Pa...</td>\n      <td>R</td>\n      <td>Drama|Science Fiction and Fantasy</td>\n      <td>David Cronenberg</td>\n      <td>David Cronenberg|Don DeLillo</td>\n      <td>2012-08-17</td>\n      <td>Jan 1, 2013</td>\n      <td>$</td>\n      <td>600,000</td>\n      <td>108 minutes</td>\n      <td>Entertainment One</td>\n    </tr>\n    <tr>\n      <th>2</th>\n      <td>3</td>\n      <td>... life lived in a bubble in financial dealin...</td>\n      <td>NaN</td>\n      <td>fresh</td>\n      <td>Sean Axmaker</td>\n      <td>0.0</td>\n      <td>Stream on Demand</td>\n      <td>New York City, not-too-distant-future: Eric Pa...</td>\n      <td>R</td>\n      <td>Drama|Science Fiction and Fantasy</td>\n      <td>David Cronenberg</td>\n      <td>David Cronenberg|Don DeLillo</td>\n      <td>2012-08-17</td>\n      <td>Jan 1, 2013</td>\n      <td>$</td>\n      <td>600,000</td>\n      <td>108 minutes</td>\n      <td>Entertainment One</td>\n    </tr>\n    <tr>\n      <th>3</th>\n      <td>3</td>\n      <td>Continuing along a line introduced in last yea...</td>\n      <td>NaN</td>\n      <td>fresh</td>\n      <td>Daniel Kasman</td>\n      <td>0.0</td>\n      <td>MUBI</td>\n      <td>New York City, not-too-distant-future: Eric Pa...</td>\n      <td>R</td>\n      <td>Drama|Science Fiction and Fantasy</td>\n      <td>David Cronenberg</td>\n      <td>David Cronenberg|Don DeLillo</td>\n      <td>2012-08-17</td>\n      <td>Jan 1, 2013</td>\n      <td>$</td>\n      <td>600,000</td>\n      <td>108 minutes</td>\n      <td>Entertainment One</td>\n    </tr>\n    <tr>\n      <th>4</th>\n      <td>3</td>\n      <td>... a perverse twist on neorealism...</td>\n      <td>NaN</td>\n      <td>fresh</td>\n      <td>NaN</td>\n      <td>0.0</td>\n      <td>Cinema Scope</td>\n      <td>New York City, not-too-distant-future: Eric Pa...</td>\n      <td>R</td>\n      <td>Drama|Science Fiction and Fantasy</td>\n      <td>David Cronenberg</td>\n      <td>David Cronenberg|Don DeLillo</td>\n      <td>2012-08-17</td>\n      <td>Jan 1, 2013</td>\n      <td>$</td>\n      <td>600,000</td>\n      <td>108 minutes</td>\n      <td>Entertainment One</td>\n    </tr>\n  </tbody>\n</table>\n</div>"
     },
     "metadata": {},
     "execution_count": 103
    }
   ],
   "source": [
    "tomatoes.head()"
   ]
  },
  {
   "cell_type": "code",
   "execution_count": 122,
   "metadata": {},
   "outputs": [],
   "source": [
    "#dropping the date column to avoid confusion- it's the date of the review, whereas theater_date is the release\n",
    "tomatoes.drop(['date'], axis = 1, inplace = True)\n",
    "#reformatting the box office numbers to ints\n",
    "tomatoes['box_office'] = tomatoes['box_office'].str.replace(',','')\n",
    "#dropping null values here- it substantially cuts into our dataset and may not be the right choice, but I don't know how to switch to ints and leave null values. This column seems particularly valuable to map. Discuss?\n",
    "tomatoes.dropna(subset= ['box_office'], inplace= True)\n",
    "tomatoes['box_office'] = tomatoes['box_office'].astype(int)"
   ]
  },
  {
   "cell_type": "code",
   "execution_count": 123,
   "metadata": {
    "tags": []
   },
   "outputs": [
    {
     "output_type": "stream",
     "name": "stdout",
     "text": "<class 'pandas.core.frame.DataFrame'>\nInt64Index: 33351 entries, 0 to 54853\nData columns (total 18 columns):\nid              33351 non-null int64\nreview          32157 non-null object\nrating_x        25538 non-null object\nfresh           33310 non-null object\ncritic          32085 non-null object\ntop_critic      33310 non-null float64\npublisher       33104 non-null object\nsynopsis        33351 non-null object\nrating_y        33351 non-null object\ngenre           33351 non-null object\ndirector        29405 non-null object\nwriter          27666 non-null object\ntheater_date    33237 non-null datetime64[ns]\ndvd_date        33237 non-null object\ncurrency        33351 non-null object\nbox_office      33351 non-null int64\nruntime         33169 non-null object\nstudio          31005 non-null object\ndtypes: datetime64[ns](1), float64(1), int64(2), object(14)\nmemory usage: 4.8+ MB\n"
    }
   ],
   "source": [
    "tomatoes.info()"
   ]
  },
  {
   "cell_type": "code",
   "execution_count": 125,
   "metadata": {},
   "outputs": [
    {
     "output_type": "execute_result",
     "data": {
      "text/plain": "array(['$'], dtype=object)"
     },
     "metadata": {},
     "execution_count": 125
    }
   ],
   "source": [
    "#since all currency seems to be in dollars we don't need to bother with a conversion here\n",
    "tomatoes.currency.unique()"
   ]
  },
  {
   "cell_type": "code",
   "execution_count": null,
   "metadata": {},
   "outputs": [],
   "source": []
  }
 ]
}